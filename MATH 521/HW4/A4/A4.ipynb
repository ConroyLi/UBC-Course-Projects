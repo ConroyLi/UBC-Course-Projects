{
 "cells": [
  {
   "cell_type": "markdown",
   "id": "a2a9f58d",
   "metadata": {},
   "source": [
    "# MATH 521 - Numerical Analysis of Differential Equations\n",
    "\n",
    "Christoph Ortner, 03/2024\n",
    "\n",
    "## Assignment 4 : Implementation Practice"
   ]
  },
  {
   "cell_type": "markdown",
   "id": "ab11245d",
   "metadata": {},
   "source": [
    "**Name:**\n",
    "Jincong Li\n",
    "\n",
    "**Student ID:**\n",
    "60539939"
   ]
  },
  {
   "cell_type": "markdown",
   "id": "4a81c5eb",
   "metadata": {},
   "source": [
    "### Notes \n",
    "\n",
    "This assignment is concerned with implementation and empirical convergence studies. There will be a little bit of theory but it purely formal - no proofs are required. I will not give too detailed instructions or have model codes ready to be completed. But you are of course allowed (in fact encouraged) to use as much of the codes from class as you wish. In fact the assignment requires again relatively minimal adaptation of my model codes.\n",
    "\n",
    "You may add as many solutions cells as needed to implement your numerical methods and tests. To help with Q2 I advise that you implement it in a structured way based on function calls rather than a single script, so you can then re-use those functions for the convergence study. For the study of singularities, you should be able to import and use the codes from class directly, you should not need to adapt them at all.\n",
    "\n",
    "In principle you may of course write your own code from scratch using a different (but similarly low-level) finite element package. Unless you already have experience with such a package I don't recommend this since it would be a fairly time-consuming undertaking. If you plan to do this please check with me so I can be sure the code you are using is suitable. "
   ]
  },
  {
   "cell_type": "markdown",
   "id": "4f9a270a",
   "metadata": {},
   "source": [
    "## Q1: Inhomogeneous Dirichlet Problem [15]\n",
    "\n",
    "We consider the boundary value problem \n",
    "$$\\begin{aligned}\n",
    "    - {\\rm div} A(x) \\nabla u &= f, \\quad \\Omega \\\\ \n",
    "          u &= u_D(x), \\quad \\partial\\Omega,\n",
    "\\end{aligned}$$\n",
    "\n",
    "where $\\Omega = (0, 1)^2$, $f(x) = x y$, $u_D(x) = \\sin(\\pi(x_1+x_2))$, and \n",
    "$$\n",
    "    A(x) = \\begin{pmatrix} \n",
    "        1 & \\frac12 \\sin(\\pi x_1) \\\\ \n",
    "        \\frac12 \\sin(\\pi x_1) & 1 \n",
    "    \\end{pmatrix}\n",
    "$$\n",
    "\n",
    "Adapt the code from class to implement a $P_k$-Finite Element method. Visualize the solution. "
   ]
  },
  {
   "cell_type": "code",
   "execution_count": 6,
   "id": "33f18864",
   "metadata": {},
   "outputs": [
    {
     "name": "stderr",
     "output_type": "stream",
     "text": [
      "\u001b[32m\u001b[1m  Activating\u001b[22m\u001b[39m project at `E:\\UBC\\MEng\\Term2\\MATH 521\\HW4\\A4`\n"
     ]
    }
   ],
   "source": [
    "using Pkg; Pkg.activate(\".\")\n",
    "using LinearAlgebra, Ferrite, LaTeXStrings, FerriteViz, WGLMakie, Makie\n",
    "Makie.inline!(true);"
   ]
  },
  {
   "cell_type": "code",
   "execution_count": 14,
   "id": "03f26b68-4bce-4654-bede-28a77c0724b8",
   "metadata": {},
   "outputs": [
    {
     "ename": "LoadError",
     "evalue": "The following package names could not be resolved:\n * plotly (not found in project, manifest or registry)\n\u001b[36m   Suggestions:\u001b[39m \u001b[0m\u001b[1mP\u001b[22m\u001b[0m\u001b[1ml\u001b[22m\u001b[0m\u001b[1mo\u001b[22m\u001b[0m\u001b[1mt\u001b[22m\u001b[0m\u001b[1ml\u001b[22m\u001b[0m\u001b[1my\u001b[22m \u001b[0m\u001b[1mP\u001b[22m\u001b[0m\u001b[1ml\u001b[22m\u001b[0m\u001b[1mo\u001b[22m\u001b[0m\u001b[1mt\u001b[22m\u001b[0m\u001b[1ml\u001b[22m\u001b[0m\u001b[1my\u001b[22mJS \u001b[0m\u001b[1mP\u001b[22m\u001b[0m\u001b[1ml\u001b[22m\u001b[0m\u001b[1mo\u001b[22m\u001b[0m\u001b[1mt\u001b[22m\u001b[0m\u001b[1ml\u001b[22m\u001b[0m\u001b[1my\u001b[22mSave \u001b[0m\u001b[1mP\u001b[22m\u001b[0m\u001b[1ml\u001b[22m\u001b[0m\u001b[1mo\u001b[22m\u001b[0m\u001b[1mt\u001b[22m\u001b[0m\u001b[1ml\u001b[22m\u001b[0m\u001b[1my\u001b[22mBase \u001b[0m\u001b[1mP\u001b[22m\u001b[0m\u001b[1ml\u001b[22m\u001b[0m\u001b[1mo\u001b[22m\u001b[0m\u001b[1mt\u001b[22m\u001b[0m\u001b[1ml\u001b[22m\u001b[0m\u001b[1my\u001b[22mLight \u001b[0m\u001b[1mP\u001b[22m\u001b[0m\u001b[1ml\u001b[22m\u001b[0m\u001b[1mo\u001b[22m\u001b[0m\u001b[1mt\u001b[22m\u001b[0m\u001b[1ml\u001b[22m\u001b[0m\u001b[1my\u001b[22mKaleido",
     "output_type": "error",
     "traceback": [
      "The following package names could not be resolved:\n * plotly (not found in project, manifest or registry)\n\u001b[36m   Suggestions:\u001b[39m \u001b[0m\u001b[1mP\u001b[22m\u001b[0m\u001b[1ml\u001b[22m\u001b[0m\u001b[1mo\u001b[22m\u001b[0m\u001b[1mt\u001b[22m\u001b[0m\u001b[1ml\u001b[22m\u001b[0m\u001b[1my\u001b[22m \u001b[0m\u001b[1mP\u001b[22m\u001b[0m\u001b[1ml\u001b[22m\u001b[0m\u001b[1mo\u001b[22m\u001b[0m\u001b[1mt\u001b[22m\u001b[0m\u001b[1ml\u001b[22m\u001b[0m\u001b[1my\u001b[22mJS \u001b[0m\u001b[1mP\u001b[22m\u001b[0m\u001b[1ml\u001b[22m\u001b[0m\u001b[1mo\u001b[22m\u001b[0m\u001b[1mt\u001b[22m\u001b[0m\u001b[1ml\u001b[22m\u001b[0m\u001b[1my\u001b[22mSave \u001b[0m\u001b[1mP\u001b[22m\u001b[0m\u001b[1ml\u001b[22m\u001b[0m\u001b[1mo\u001b[22m\u001b[0m\u001b[1mt\u001b[22m\u001b[0m\u001b[1ml\u001b[22m\u001b[0m\u001b[1my\u001b[22mBase \u001b[0m\u001b[1mP\u001b[22m\u001b[0m\u001b[1ml\u001b[22m\u001b[0m\u001b[1mo\u001b[22m\u001b[0m\u001b[1mt\u001b[22m\u001b[0m\u001b[1ml\u001b[22m\u001b[0m\u001b[1my\u001b[22mLight \u001b[0m\u001b[1mP\u001b[22m\u001b[0m\u001b[1ml\u001b[22m\u001b[0m\u001b[1mo\u001b[22m\u001b[0m\u001b[1mt\u001b[22m\u001b[0m\u001b[1ml\u001b[22m\u001b[0m\u001b[1my\u001b[22mKaleido",
      "",
      "Stacktrace:",
      " [1] pkgerror(msg::String)",
      "   @ Pkg.Types C:\\Users\\Conro\\.julia\\juliaup\\julia-1.10.0+0.x64.w64.mingw32\\share\\julia\\stdlib\\v1.10\\Pkg\\src\\Types.jl:70",
      " [2] ensure_resolved(ctx::Pkg.Types.Context, manifest::Pkg.Types.Manifest, pkgs::Vector{Pkg.Types.PackageSpec}; registry::Bool)",
      "   @ Pkg.Types C:\\Users\\Conro\\.julia\\juliaup\\julia-1.10.0+0.x64.w64.mingw32\\share\\julia\\stdlib\\v1.10\\Pkg\\src\\Types.jl:1030",
      " [3] ensure_resolved",
      "   @ C:\\Users\\Conro\\.julia\\juliaup\\julia-1.10.0+0.x64.w64.mingw32\\share\\julia\\stdlib\\v1.10\\Pkg\\src\\Types.jl:981 [inlined]",
      " [4] add(ctx::Pkg.Types.Context, pkgs::Vector{Pkg.Types.PackageSpec}; preserve::Pkg.Types.PreserveLevel, platform::Base.BinaryPlatforms.Platform, kwargs::@Kwargs{io::IJulia.IJuliaStdio{Base.PipeEndpoint}})",
      "   @ Pkg.API C:\\Users\\Conro\\.julia\\juliaup\\julia-1.10.0+0.x64.w64.mingw32\\share\\julia\\stdlib\\v1.10\\Pkg\\src\\API.jl:267",
      " [5] add(pkgs::Vector{Pkg.Types.PackageSpec}; io::IJulia.IJuliaStdio{Base.PipeEndpoint}, kwargs::@Kwargs{})",
      "   @ Pkg.API C:\\Users\\Conro\\.julia\\juliaup\\julia-1.10.0+0.x64.w64.mingw32\\share\\julia\\stdlib\\v1.10\\Pkg\\src\\API.jl:159",
      " [6] add(pkgs::Vector{Pkg.Types.PackageSpec})",
      "   @ Pkg.API C:\\Users\\Conro\\.julia\\juliaup\\julia-1.10.0+0.x64.w64.mingw32\\share\\julia\\stdlib\\v1.10\\Pkg\\src\\API.jl:148",
      " [7] add",
      "   @ Pkg.API C:\\Users\\Conro\\.julia\\juliaup\\julia-1.10.0+0.x64.w64.mingw32\\share\\julia\\stdlib\\v1.10\\Pkg\\src\\API.jl:147 [inlined]",
      " [8] add(pkg::String)",
      "   @ Pkg.API C:\\Users\\Conro\\.julia\\juliaup\\julia-1.10.0+0.x64.w64.mingw32\\share\\julia\\stdlib\\v1.10\\Pkg\\src\\API.jl:146",
      " [9] top-level scope",
      "   @ In[14]:1"
     ]
    }
   ],
   "source": [
    "import Pkg; Pkg.add(\"plotly\")#master\n",
    "import plotly.io as pio#master\n",
    "pio.renderers.default = true #\"notebook\""
   ]
  },
  {
   "cell_type": "code",
   "execution_count": 9,
   "id": "03f0298f",
   "metadata": {
    "scrolled": true
   },
   "outputs": [
    {
     "data": {},
     "execution_count": 9,
     "metadata": {},
     "output_type": "execute_result"
    }
   ],
   "source": [
    "grid = generate_grid(Triangle, (10, 10))\n",
    "FerriteViz.wireframe(grid, markersize = 10, strokewidth = 2,figure = (resolution=(500,500),))"
   ]
  },
  {
   "cell_type": "markdown",
   "id": "51a0e730",
   "metadata": {},
   "source": [
    "## Q2: Convergence Study [15]\n",
    "\n",
    "Implement a numerical convergence study of you method from Q1. Using the method of manufactured solutions, demonstrate that - provided your solution is sufficiently smooth - your method achieves the optimal rate of convergence in the **energy norm**, \n",
    "$$\n",
    "  \\| u - u_h \\|_a := \\bigg( \\int_\\Omega \\nabla (u-u_h)^T A(x) \\nabla (u-u_h) \\,dx \\bigg)^{1/2}.\n",
    "$$\n",
    "Provide a similar visualization of the optimal convergence rates (in this norm) as in reference implementation from class for the $P_k$-FEM, $k = 1, 2, 3$."
   ]
  },
  {
   "cell_type": "code",
   "execution_count": null,
   "id": "371a1707",
   "metadata": {},
   "outputs": [],
   "source": []
  },
  {
   "cell_type": "code",
   "execution_count": null,
   "id": "96548334",
   "metadata": {},
   "outputs": [],
   "source": [
    "using ForwardDiff \n",
    "\n",
    "# generate a smooth solution consistent with the boundary condition \n",
    "\n",
    "u_ex = x ->  # choose a model \"manufactured solution\"\n",
    "∇u_ex = x -> ForwardDiff.gradient(u_ex, x)\n",
    "f_ex = x ->  - tr( ForwardDiff.jacobian(x -> A_fun(x) * ∇u_ex(x), x) )\n",
    "\n"
   ]
  },
  {
   "cell_type": "markdown",
   "id": "2cf1b71c",
   "metadata": {},
   "source": [
    "---\n",
    "\n",
    "The next two questions concern semi-empirical and theoretical convergence studies on domains with corners. No rigorous proofs need to be given, but please do justify your arguments. You can re-use the code from the class on corner-singularities almost verbatim, very few changes need to be made. "
   ]
  },
  {
   "cell_type": "code",
   "execution_count": null,
   "id": "fe9a6c34",
   "metadata": {},
   "outputs": [],
   "source": [
    "include(\"ferrite_tools.jl\")\n",
    "include(\"aitken.jl\")\n",
    "\n",
    "function compute_energy(k, N, generate_dom, ffun)\n",
    "    grid, ∂Ω = generate_dom(N)\n",
    "    cellvalues, dh, ch, K = setup_fem(k, grid, ∂Ω)\n",
    "    K, f = assemble_global!(cellvalues, dh, K, ξ -> ffun(ξ));\n",
    "    apply!(K, f, ch)\n",
    "    u = K \\ f;\n",
    "    return 0.5 * dot(u, K * u) - dot(u, f)\n",
    "end"
   ]
  },
  {
   "cell_type": "markdown",
   "id": "a41e08aa",
   "metadata": {},
   "source": [
    "## Q3: Regularity in Polygonal Domains - Part 1  [10]\n",
    "\n",
    "We consider the boundary value problem \n",
    "$$\\begin{aligned}\n",
    "    -\\Delta u &= 10, \\quad x \\in \\Omega \\\\ \n",
    "        u &= 0, \\quad x \\in \\partial\\Omega\n",
    "\\end{aligned}$$\n",
    "where $\\Omega$ is a domain with a triangle cut out with re-entrant corner of angle $\\pi/4$. \n",
    "\n",
    "What is the expected rate of convergence in energy-norm for P1-FEM and P2-FEM? Briefly justify your answer, then demonstrate this numerically."
   ]
  },
  {
   "cell_type": "code",
   "execution_count": null,
   "id": "91c5a754",
   "metadata": {},
   "outputs": [],
   "source": [
    "grid, ∂Ω = generate_wedge(20)\n",
    "\n",
    "FerriteViz.wireframe(grid, markersize = 10, strokewidth = 2, \n",
    "                     figure = (resolution=(500,500),))"
   ]
  },
  {
   "cell_type": "markdown",
   "id": "e1d2ebae",
   "metadata": {},
   "source": [
    "### Solution: theory\n",
    "\n",
    "A the re-entrant corner with interior angle $\\theta_0 = 7 \\pi/4 = \\pi/\\alpha$ we have the leading-order singularity \n",
    "$$\n",
    "    s_{\\alpha} = r^\\alpha \\sin(\\alpha \\theta),\n",
    "$$\n",
    "with $\\alpha = 4/7$. Following class notes we expect the rate of convergence in energy-norm to be only $O(h^{4/7})$ for both P1 and P2-fem. For convergence in energy we therefore get $O(h^{8/7})$.  This is fully supported by theory."
   ]
  },
  {
   "cell_type": "code",
   "execution_count": null,
   "id": "fee71eed",
   "metadata": {},
   "outputs": [],
   "source": []
  },
  {
   "cell_type": "markdown",
   "id": "fa68062a",
   "metadata": {},
   "source": [
    "## Q4: Regularity in Polygonal Domains - Part 2  [10]\n",
    "\n",
    "We consider the boundary value problem \n",
    "$$\\begin{aligned}\n",
    "    -\\Delta u &= 5, \\quad x \\in \\Omega \\\\ \n",
    "        u &= 0, \\quad x \\in \\partial\\Omega\n",
    "\\end{aligned}$$\n",
    "where $\\Omega$ is now again the unit square, namely a triangle with angles $\\pi/4, \\pi/4,  \\pi/2$. (visualized in the first cell below)\n",
    "\n",
    "What is the expected rate of convergence in energy-norm for P1-FEM, P2-FEM, P3-FEM? \n",
    "\n",
    "Even though the square should be the simplest of all cases, it is actually not trivial to adapt our arguments for re-entrant corners to this setting, even formally. Try to work it out, but if you can't see how to go about it, then do a purely empirical study and try to explain more intuitively what you observe. I will give close to full points for that.\n",
    "\n",
    "(Because of the high symmetry, there are alternative techniques to understand the regularity of solutions in a square, e.g. Fourier. You could think about that too. But this takes a lot of time and I don't expect it.)"
   ]
  },
  {
   "cell_type": "markdown",
   "id": "12d57b8f",
   "metadata": {},
   "source": [
    "### Solution: theory\n",
    "\n",
    "The domain is convex so $u \\in H^2$, this means the rate for P1-FEM is $h$. \n",
    "\n",
    "But it is not clear whether $u \\in H^3$ or even $H^4$ to get the optimal rates for P2 and P3? We look at the possible corner singularities: Here the interior angle at all corners is $\\theta_0 = \\pi/2 = \\pi/\\alpha$, i.e. $\\alpha = 2$. This suggests the leading order corner singularity $s_2(x) = r^2 \\sin(2 \\theta)$. \n",
    "\n",
    "Because higher $r$-derivatives just vanish, we look at the $\\theta$-derivatives instead. Recall that the derivatives in euclidean coordinates scale roughly as $\\nabla_{xy} \\sim (\\partial_r, r^{-1} \\partial_\\theta)$. For the third derivative we get \n",
    "$$\\begin{aligned}\n",
    "    r^{-3} \\partial_\\theta^3 s_2 &= - 8 r^{-1} \\cos(2\\theta) \n",
    "\\end{aligned}$$\n",
    "This suggests that $|\\nabla^3 s_2|^2 \\approx r^{-2}$ near the singularity, which would mean that it is \"almost but not quite integrable\", i.e. $u \\not\\in H^3$, but \"almost\". \n",
    "\n",
    "We can speculate that the rate of convergence for P2 will be $h^t$ for all $t < k$, i.e. almost optimal. This is really hard to see numerically so we will test against $h^2$. For P3 to get a better rate we would need strictly better than $H^3$-regularity, which we clearlly cannot have, so the rate for P3 will be the same as for P2, i.e. almost $h^2$. (or, $h^4$ for the convergence of the energy)\n"
   ]
  },
  {
   "cell_type": "code",
   "execution_count": null,
   "id": "023694ec",
   "metadata": {},
   "outputs": [],
   "source": []
  },
  {
   "cell_type": "code",
   "execution_count": null,
   "id": "4e464ac8",
   "metadata": {},
   "outputs": [],
   "source": []
  }
 ],
 "metadata": {
  "kernelspec": {
   "display_name": "Julia 1.10.0",
   "language": "julia",
   "name": "julia-1.10"
  },
  "language_info": {
   "file_extension": ".jl",
   "mimetype": "application/julia",
   "name": "julia",
   "version": "1.10.0"
  }
 },
 "nbformat": 4,
 "nbformat_minor": 5
}
