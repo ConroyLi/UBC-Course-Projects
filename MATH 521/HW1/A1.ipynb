{
 "cells": [
  {
   "cell_type": "markdown",
   "id": "a89edbc4",
   "metadata": {},
   "source": [
    "# MATH 521 - Numerical Analysis of Differential Equations\n",
    "\n",
    "Christoph Ortner, 01/2024\n",
    "\n",
    "## Assignment 1 : One Dimension"
   ]
  },
  {
   "cell_type": "markdown",
   "id": "09a48b17",
   "metadata": {},
   "source": [
    "**Name:** Jincong Li\n",
    "\n",
    "**Student ID:** 60539939"
   ]
  },
  {
   "cell_type": "markdown",
   "id": "bf65a1be",
   "metadata": {},
   "source": [
    "### Q1: Implementation of  Model Problem [20] \n",
    "\n",
    "Recall our first boundary value problem that we studied in class, \n",
    "$$ \\begin{aligned}\n",
    " & - u'' = f, \\quad x \\in (0, 1), \\\\ \n",
    " & u(0) = u(1) = 0. \n",
    " \\end{aligned}\n",
    "$$\n",
    "We reformulated this in the weak form: find $u \\in H^1_0(0, 1)$ such that \n",
    "$$\n",
    "   \\int_0^1 u' v' dx = \\int_0^1 f v dx \\qquad \\forall v \\in H^1_0(0, 1). \n",
    "$$\n",
    "We then defined the finite element method as follows: \n",
    "- Specify the nodes for a mesh: $0 = x_0 < x_1 <\\dots < x_N = 1$\n",
    "- Specify the space $V_h = \\{ u_h : \\text{cts, p.w. affine w.r.t. } (x_j)_j \\}$\n",
    "- Fine $u_h \\in V_h$ such that \n",
    "$$\n",
    "  \\int_0^1 u_h' v_h' dx = \\int_0^1 f v_h dx \\qquad \\forall v_h \\in H^1_0(0, 1). \n",
    "$$\n",
    "\n",
    "**Your task:** Implement this numerical scheme, using mid-point quadrature (as in class) solve it with $f(x) = 1$, plot both the exact solution and the finite element solution (for $N = 15$)."
   ]
  },
  {
   "cell_type": "code",
   "execution_count": null,
   "id": "f4ca8750",
   "metadata": {},
   "outputs": [],
   "source": [
    "using Plots, LaTeXStrings"
   ]
  },
  {
   "cell_type": "code",
   "execution_count": null,
   "id": "51010b81",
   "metadata": {},
   "outputs": [],
   "source": [
    "# outline of the implementation \n",
    "using Plots, LaTeXStrings\n",
    "function assemble_system(X, f)\n",
    "    # input \n",
    "    #   X : list of grid points, e.g. as Vector{Float64}\n",
    "    #   f : function to evaluate f(x)\n",
    "   \n",
    "    N = length(X) - 1    # number of elements\n",
    "    A = zeros(N+1, N+1)  # should be sparse, but let's not worry\n",
    "    F = zeros(N+1)\n",
    "    \n",
    "    for j = 1:N\n",
    "        # compute the contributions to F and A from the element (xⱼ₋₁, xⱼ)\n",
    "        # and write them into A, F\n",
    "        ξⱼ = 0.5 * (X[j]+X[j+1])  # midpoint for quadrature\n",
    "        hⱼ = X[j+1] - X[j]        # mesh size in current element \n",
    "    end\n",
    "   \n",
    "    return A, F\n",
    "end\n",
    "\n",
    "# My suggestion is that `assemble_system` returns \n",
    "# A and F ignoring the boundary condition i.e. for the full \n",
    "# N+1 DOFs. We can then reduce those to the required size \n",
    "# for solving only for the free DOFs. (Think about why this works!)\n",
    "\n",
    "N = 15 \n",
    "X = range(0, 1, length = N+1)\n",
    "f = x -> 1.0\n",
    "A, F = assemble_system(X, f) \n",
    "U = zeros(N+1)\n",
    "U[2:N] = A[2:N, 2:N] \\ F[2:N];\n",
    "print(N)"
   ]
  },
  {
   "cell_type": "code",
   "execution_count": null,
   "id": "7af1490a",
   "metadata": {},
   "outputs": [],
   "source": [
    "# the postprocessing and visualization should be done in a separate cell\n",
    "# from the computation. \n",
    "\n",
    "xp = range(0, 1, 100)\n",
    "u = xp -> 0.5 * xp .* (1-xp)\n",
    "\n",
    "plot(; xlabel = L\"x\", ylabel = L\"u(x)\", size = (400, 300))\n",
    "plot!(xp, u, lw=6, label = \"exact\")\n",
    "plot!(X, U, lw=2, m=:o, ms=5, label = \"FEM\")\n"
   ]
  },
  {
   "cell_type": "markdown",
   "id": "ade395bd",
   "metadata": {},
   "source": [
    "---"
   ]
  },
  {
   "cell_type": "markdown",
   "id": "e504fc06",
   "metadata": {},
   "source": [
    "### Q2-pre [5]\n",
    "\n",
    "To solve the following question you will need a little extra piece of information that I hinted at in class but didn't really work out completely: in one dimension, point evaluation is a continuous / bounded operation in the typical Sobolev spaces we encounter. Concretely, the following is true: let $\\hat{x} \\in (0, 1)$ and let $v \\in C^1([0, 1])$ then \n",
    "$$\n",
    "  \\big| v(\\hat{x}) - v(0) \\big| \\leq C \\| v' \\|_{L^2(0, 1)} \n",
    "$$\n",
    "for some suitable constant $C > 0$. Prove this statement. \n"
   ]
  },
  {
   "cell_type": "markdown",
   "id": "09020024",
   "metadata": {},
   "source": [
    "**Solution for Q2-pre:**\n"
   ]
  },
  {
   "cell_type": "markdown",
   "id": "eba1ff3e",
   "metadata": {},
   "source": [
    "### Q2: Neumann Boundary Condition [15]\n",
    "\n",
    "Consider the boundary value problem\n",
    "$$\n",
    "\\begin{aligned} \n",
    "     - u'' &= f, \\quad x \\in (0, 1), \\\\ \n",
    "    u(0) &= 0, \\\\ \n",
    "    u'(1) &= g.\n",
    "\\end{aligned} \n",
    "$$\n",
    "where $a, f$ are continuous in $[0, 1]$, $a(x) > 0$, $g \\in \\mathbb{R}$. \n",
    "\n",
    "(1) Derive the weak form. Prove that it has a unique solution.\n",
    "\n",
    "*HINT: the correct function space this time is not $H^1_0(0, 1)$.  Remember from class how we chose the test function!*\n",
    "\n",
    "(2) Formulate the corresponding finite element method. Prove that it has a unique solution.\n",
    "\n",
    "(3) Prove that the FEM solution is the best approximation in a natural norm that you should specify. "
   ]
  },
  {
   "cell_type": "markdown",
   "id": "dec0260b",
   "metadata": {},
   "source": [
    "**Solution (Q2.1)**\n"
   ]
  },
  {
   "cell_type": "markdown",
   "id": "3fded19f",
   "metadata": {},
   "source": [
    "**Solution (Q2.2)**\n",
    " \n"
   ]
  },
  {
   "cell_type": "markdown",
   "id": "d7bf4864",
   "metadata": {},
   "source": [
    "**Solution (Q2.3)**\n",
    "\n"
   ]
  },
  {
   "cell_type": "markdown",
   "id": "d445e6ee",
   "metadata": {},
   "source": [
    "### Q3:  Implementation of Q2 [10]\n",
    "\n",
    "Implement the method you defined in Q2. Copy-paste your code from Q1 and adapt it. \n",
    "\n",
    "*HINT: only a single line needs to be added to the assemble, then the solution script that enforces the boundary condition needs to be adapted suitably.*\n",
    "\n",
    "Use it to solve the BVP from Q2 with $f = 1$ and $g = -1/2$ and $N = 10$. Plot the exact solution and the FEM solution."
   ]
  },
  {
   "cell_type": "code",
   "execution_count": null,
   "id": "1c10fb5e",
   "metadata": {},
   "outputs": [],
   "source": [
    "# Solution to Q3\n"
   ]
  },
  {
   "cell_type": "code",
   "execution_count": null,
   "id": "fe5efa05",
   "metadata": {},
   "outputs": [],
   "source": [
    "# postprocessing and visualization\n"
   ]
  }
 ],
 "metadata": {
  "kernelspec": {
   "display_name": "Julia 1.9.4",
   "language": "julia",
   "name": "julia-1.9"
  },
  "language_info": {
   "file_extension": ".jl",
   "mimetype": "application/julia",
   "name": "julia",
   "version": "1.9.4"
  }
 },
 "nbformat": 4,
 "nbformat_minor": 5
}
