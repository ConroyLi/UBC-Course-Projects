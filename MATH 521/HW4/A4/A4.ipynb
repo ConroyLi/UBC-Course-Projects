{
 "cells": [
  {
   "cell_type": "markdown",
   "id": "a2a9f58d",
   "metadata": {},
   "source": [
    "# MATH 521 - Numerical Analysis of Differential Equations\n",
    "\n",
    "Christoph Ortner, 03/2024\n",
    "\n",
    "## Assignment 4 : Implementation Practice"
   ]
  },
  {
   "cell_type": "markdown",
   "id": "ab11245d",
   "metadata": {},
   "source": [
    "**Name:**\n",
    "Jincong Li\n",
    "\n",
    "**Student ID:**\n",
    "60539939"
   ]
  },
  {
   "cell_type": "markdown",
   "id": "4a81c5eb",
   "metadata": {},
   "source": [
    "### Notes \n",
    "\n",
    "This assignment is concerned with implementation and empirical convergence studies. There will be a little bit of theory but it purely formal - no proofs are required. I will not give too detailed instructions or have model codes ready to be completed. But you are of course allowed (in fact encouraged) to use as much of the codes from class as you wish. In fact the assignment requires again relatively minimal adaptation of my model codes.\n",
    "\n",
    "You may add as many solutions cells as needed to implement your numerical methods and tests. To help with Q2 I advise that you implement it in a structured way based on function calls rather than a single script, so you can then re-use those functions for the convergence study. For the study of singularities, you should be able to import and use the codes from class directly, you should not need to adapt them at all.\n",
    "\n",
    "In principle you may of course write your own code from scratch using a different (but similarly low-level) finite element package. Unless you already have experience with such a package I don't recommend this since it would be a fairly time-consuming undertaking. If you plan to do this please check with me so I can be sure the code you are using is suitable. "
   ]
  },
  {
   "cell_type": "markdown",
   "id": "4f9a270a",
   "metadata": {},
   "source": [
    "## Q1: Inhomogeneous Dirichlet Problem [15]\n",
    "\n",
    "We consider the boundary value problem \n",
    "$$\\begin{aligned}\n",
    "    - {\\rm div} A(x) \\nabla u &= f, \\quad \\Omega \\\\ \n",
    "          u &= u_D(x), \\quad \\partial\\Omega,\n",
    "\\end{aligned}$$\n",
    "\n",
    "where $\\Omega = (0, 1)^2$, $f(x) = x y$, $u_D(x) = \\sin(\\pi(x_1+x_2))$, and \n",
    "$$\n",
    "    A(x) = \\begin{pmatrix} \n",
    "        1 & \\frac12 \\sin(\\pi x_1) \\\\ \n",
    "        \\frac12 \\sin(\\pi x_1) & 1 \n",
    "    \\end{pmatrix}\n",
    "$$\n",
    "\n",
    "Adapt the code from class to implement a $P_k$-Finite Element method. Visualize the solution. "
   ]
  },
  {
   "cell_type": "code",
   "execution_count": 58,
   "id": "33f18864",
   "metadata": {},
   "outputs": [
    {
     "name": "stderr",
     "output_type": "stream",
     "text": [
      "\u001b[32m\u001b[1m  Activating\u001b[22m\u001b[39m project at `e:\\UBC\\MEng\\Term2\\MATH 521\\HW4\\A4`\n"
     ]
    }
   ],
   "source": [
    "using Pkg; Pkg.activate(\".\")\n",
    "using LinearAlgebra, Ferrite, LaTeXStrings, FerriteViz, WGLMakie, Makie\n",
    "Makie.inline!(true);"
   ]
  },
  {
   "cell_type": "code",
   "execution_count": 59,
   "id": "03f0298f",
   "metadata": {
    "scrolled": true
   },
   "outputs": [
    {
     "data": {
      "text/plain": [
       "setup_fem (generic function with 1 method)"
      ]
     },
     "metadata": {},
     "output_type": "display_data"
    }
   ],
   "source": [
    "function setup_fem(N, p)\n",
    "    grid = generate_grid(Triangle, (20, 20),Ferrite.Vec(0.0, 0.0),Ferrite.Vec(1.0, 1.0))\n",
    "    dim = 2\n",
    "    ip = Lagrange{dim, RefTetrahedron, p}()\n",
    "    ip_geo = Lagrange{dim, RefTetrahedron, 1}()\n",
    "    qr = QuadratureRule{dim, RefTetrahedron}(3*p)\n",
    "    cellvalues = CellScalarValues(qr, ip, ip_geo)\n",
    "    dh = DofHandler(grid)\n",
    "    add!(dh, :u, 1, ip)\n",
    "    close!(dh)\n",
    "    K = create_sparsity_pattern(dh)\n",
    "    ch = ConstraintHandler(dh)\n",
    "    ∂Ω = union(getfaceset.(Ref(grid), [\"left\", \"right\", \"top\", \"bottom\"])...)\n",
    "    dbc = Dirichlet(:u, ∂Ω, (x,t) -> sin(π * (x[1] + x[2])))\n",
    "    add!(ch, dbc)\n",
    "    close!(ch)   \n",
    "    return cellvalues, dh, ch, K\n",
    "end\n"
   ]
  },
  {
   "cell_type": "code",
   "execution_count": 60,
   "id": "7ef6a17f",
   "metadata": {},
   "outputs": [
    {
     "data": {
      "text/plain": [
       "solve_fem (generic function with 1 method)"
      ]
     },
     "metadata": {},
     "output_type": "display_data"
    }
   ],
   "source": [
    "function solve_fem(cellvalues, dh, ch, K, ffun)\n",
    "    K, f = assemble_global!(cellvalues, dh, K, ξ -> ffun(ξ));\n",
    "    apply!(K, f, ch)\n",
    "    u = K \\ f;\n",
    "    return u \n",
    "end"
   ]
  },
  {
   "cell_type": "code",
   "execution_count": 61,
   "id": "51eaaab2",
   "metadata": {},
   "outputs": [
    {
     "data": {
      "text/plain": [
       "A (generic function with 1 method)"
      ]
     },
     "metadata": {},
     "output_type": "display_data"
    }
   ],
   "source": [
    "function assemble_global!(cellvalues, dh, K, ffun)\n",
    "    # we pre-allocate the element stiffness matrix and element force vector\n",
    "    # these will be passed to the element assembly to avoid many allocations\n",
    "    n_basefuncs = getnbasefunctions(cellvalues)\n",
    "    Ke = zeros(n_basefuncs, n_basefuncs)\n",
    "    fe = zeros(n_basefuncs)\n",
    "     \n",
    "    # Allocate global force vector f\n",
    "    f = zeros(ndofs(dh))\n",
    "\n",
    "    # Create an assembler: this object knows how to write \n",
    "    # the local arrays Ke, fe into the global arrays K, f \n",
    "    assembler = start_assemble(K, f)\n",
    "     \n",
    "    # Loop over all cells; this is managed by the DOF handler \n",
    "    # since the `cell` comes with information about local \n",
    "    # DOFs attached.\n",
    "    for cell in CellIterator(dh)\n",
    "        # Reinitialize cellvalues for this cell\n",
    "        # `cellvalues` has iterators attached that need \n",
    "        # to be reset. This seems unnecessary and probably \n",
    "        # just a poor code design decision. \n",
    "        reinit!(cellvalues, cell)\n",
    "        # ==========================================\n",
    "        # Compute element contribution; \n",
    "        # this is where the actual work happens\n",
    "        assemble_element!(Ke, fe, cell, cellvalues, ffun)\n",
    "        # ==========================================\n",
    "        # local-to-global assemble Ke and fe into K and f\n",
    "        assemble!(assembler, celldofs(cell), Ke, fe)\n",
    "    end\n",
    "    return K, f\n",
    " end\n",
    " \n",
    " function assemble_element!(Ke, fe, cell, cellvalues, ffun)\n",
    "    # number of local basis functions    \n",
    "    n_basefuncs = getnbasefunctions(cellvalues)\n",
    "    # Reset the local arrays \n",
    "    fill!(Ke, 0); fill!(fe, 0)\n",
    "    # precompute the cell coordinates \n",
    "    cell_coords = getcoordinates(cell)\n",
    "     \n",
    "    # Loop over quadrature points\n",
    "    for i_q in 1:getnquadpoints(cellvalues)\n",
    "        # Get the quadrature weight for the current quad point\n",
    "        # this includes the det(F) terms. It can be thought of \n",
    "        # as the volume element (hence dΩ)\n",
    "        dΩ = getdetJdV(cellvalues, i_q)\n",
    "         \n",
    "        # evaluate f at the quadrature point \n",
    "        ξ_q = spatial_coordinate(cellvalues, i_q, cell_coords)\n",
    "        f_q = ffun(ξ_q)\n",
    "         \n",
    "        # Loop over test shape functions (basis functions)\n",
    "        for i in 1:n_basefuncs\n",
    "            # get the values v = ψ_i(ξ_q), ∇v = ∇ψ_i(ξ_q)\n",
    "            v  = shape_value(cellvalues, i_q, i)\n",
    "            ∇v = shape_gradient(cellvalues, i_q, i)\n",
    "             \n",
    "            # ∫_K f v dx\n",
    "            # Add contribution to fe\n",
    "            fe[i] += f_q * v * dΩ\n",
    "             \n",
    "            # Loop over trial shape functions\n",
    "            for j in 1:n_basefuncs\n",
    "                ∇u = shape_gradient(cellvalues, i_q, j)\n",
    "                # Add contribution to Ke\n",
    "                #  ∫_K ∇v ⋅ ∇u \n",
    "                Ke[i, j] += dot(∇v, A(ξ_q), ∇u) * dΩ\n",
    "            end\n",
    "        end\n",
    "    end\n",
    "    return Ke, fe\n",
    " end\n",
    "\n",
    " function A(x)\n",
    "    return [1 0.5*sin(π*x[1]); \n",
    "            0.5*sin(π*x[1]) 1]\n",
    "end\n"
   ]
  },
  {
   "cell_type": "code",
   "execution_count": 63,
   "id": "cb63e8a3",
   "metadata": {},
   "outputs": [
    {
     "data": {
      "text/html": [
       "<div data-jscall-id=\"251\"><script data-jscall-id=\"252\" type=\"text/javascript\">\n",
       "    function register_resize_handler(remote_origin) {\n",
       "        function resize_callback(event) {\n",
       "            if (event.origin !== remote_origin) {\n",
       "                return;\n",
       "            }\n",
       "            const uuid = event.data[0];\n",
       "            const width = event.data[1];\n",
       "            const height = event.data[2];\n",
       "            const iframe = document.getElementById('04ad1919-458b-415a-b6da-b77f97305721');\n",
       "            if (iframe) {\n",
       "                iframe.style.width = width + \"px\";\n",
       "                iframe.style.height = height + \"px\";\n",
       "            }\n",
       "        }\n",
       "        if (window.addEventListener) {\n",
       "            window.addEventListener(\"message\", resize_callback, false);\n",
       "        } else if (window.attachEvent) {\n",
       "            window.attachEvent(\"onmessage\", resize_callback);\n",
       "        }\n",
       "    }\n",
       "    register_resize_handler('http://127.0.0.1:9284')\n",
       "\n",
       "</script><iframe scrolling=\"no\" id=\"04ad1919-458b-415a-b6da-b77f97305721\" data-jscall-id=\"250\" src=\"http://127.0.0.1:9284/04ad1919-458b-415a-b6da-b77f97305721\" style=\"position: relative; display: block; width: 100%; height: 100%; padding: 0; overflow: hidden; border: none\"></iframe></div>\n"
      ]
     },
     "metadata": {},
     "output_type": "display_data"
    }
   ],
   "source": [
    "cellvalues, dh, ch, K = setup_fem(8, 3)\n",
    "\n",
    "# solve \n",
    "u = solve_fem(cellvalues, dh, ch, K, ξ -> ξ[1]*ξ[2])\n",
    "\n",
    "# visualize : we can't see a difference in the solution\n",
    "# but this is good of course. We will look at errors next.\n",
    "fig = FerriteViz.surface(plotter, field=:u, \n",
    "                   figure = (resolution = (700,700,),))\n"
   ]
  },
  {
   "cell_type": "markdown",
   "id": "51a0e730",
   "metadata": {},
   "source": [
    "## Q2: Convergence Study [15]\n",
    "\n",
    "Implement a numerical convergence study of you method from Q1. Using the method of manufactured solutions, demonstrate that - provided your solution is sufficiently smooth - your method achieves the optimal rate of convergence in the **energy norm**, \n",
    "$$\n",
    "  \\| u - u_h \\|_a := \\bigg( \\int_\\Omega \\nabla (u-u_h)^T A(x) \\nabla (u-u_h) \\,dx \\bigg)^{1/2}.\n",
    "$$\n",
    "Provide a similar visualization of the optimal convergence rates (in this norm) as in reference implementation from class for the $P_k$-FEM, $k = 1, 2, 3$."
   ]
  },
  {
   "cell_type": "code",
   "execution_count": null,
   "id": "371a1707",
   "metadata": {},
   "outputs": [],
   "source": []
  },
  {
   "cell_type": "code",
   "execution_count": 64,
   "id": "96548334",
   "metadata": {},
   "outputs": [
    {
     "ename": "ArgumentError",
     "evalue": "ArgumentError: Package ForwardDiff not found in current path.\n- Run `import Pkg; Pkg.add(\"ForwardDiff\")` to install the ForwardDiff package.",
     "output_type": "error",
     "traceback": [
      "ArgumentError: Package ForwardDiff not found in current path.\n",
      "- Run `import Pkg; Pkg.add(\"ForwardDiff\")` to install the ForwardDiff package.\n",
      "\n",
      "Stacktrace:\n",
      "  [1] macro expansion\n",
      "    @ Base .\\loading.jl:1766 [inlined]\n",
      "  [2] macro expansion\n",
      "    @ Base .\\lock.jl:267 [inlined]\n",
      "  [3] __require(into::Module, mod::Symbol)\n",
      "    @ Base .\\loading.jl:1747\n",
      "  [4] #invoke_in_world#3\n",
      "    @ Base .\\essentials.jl:921 [inlined]\n",
      "  [5] invoke_in_world\n",
      "    @ Base .\\essentials.jl:918 [inlined]\n",
      "  [6] require(into::Module, mod::Symbol)\n",
      "    @ Base .\\loading.jl:1740\n",
      "  [7] eval\n",
      "    @ .\\boot.jl:385 [inlined]\n",
      "  [8] include_string(mapexpr::typeof(REPL.softscope), mod::Module, code::String, filename::String)\n",
      "    @ Base .\\loading.jl:2070\n",
      "  [9] #invokelatest#2\n",
      "    @ .\\essentials.jl:887 [inlined]\n",
      " [10] invokelatest\n",
      "    @ .\\essentials.jl:884 [inlined]\n",
      " [11] (::VSCodeServer.var\"#214#215\"{VSCodeServer.NotebookRunCellArguments, String})()\n",
      "    @ VSCodeServer c:\\Users\\Conro\\.vscode\\extensions\\julialang.language-julia-1.75.2\\scripts\\packages\\VSCodeServer\\src\\serve_notebook.jl:19\n",
      " [12] withpath(f::VSCodeServer.var\"#214#215\"{VSCodeServer.NotebookRunCellArguments, String}, path::String)\n",
      "    @ VSCodeServer c:\\Users\\Conro\\.vscode\\extensions\\julialang.language-julia-1.75.2\\scripts\\packages\\VSCodeServer\\src\\repl.jl:274\n",
      " [13] notebook_runcell_request(conn::VSCodeServer.JSONRPC.JSONRPCEndpoint{Base.PipeEndpoint, Base.PipeEndpoint}, params::VSCodeServer.NotebookRunCellArguments)\n",
      "    @ VSCodeServer c:\\Users\\Conro\\.vscode\\extensions\\julialang.language-julia-1.75.2\\scripts\\packages\\VSCodeServer\\src\\serve_notebook.jl:13\n",
      " [14] dispatch_msg(x::VSCodeServer.JSONRPC.JSONRPCEndpoint{Base.PipeEndpoint, Base.PipeEndpoint}, dispatcher::VSCodeServer.JSONRPC.MsgDispatcher, msg::Dict{String, Any})\n",
      "    @ VSCodeServer.JSONRPC c:\\Users\\Conro\\.vscode\\extensions\\julialang.language-julia-1.75.2\\scripts\\packages\\JSONRPC\\src\\typed.jl:67\n",
      " [15] serve_notebook(pipename::String, outputchannel_logger::Base.CoreLogging.SimpleLogger; crashreporting_pipename::String)\n",
      "    @ VSCodeServer c:\\Users\\Conro\\.vscode\\extensions\\julialang.language-julia-1.75.2\\scripts\\packages\\VSCodeServer\\src\\serve_notebook.jl:139\n",
      " [16] top-level scope\n",
      "    @ c:\\Users\\Conro\\.vscode\\extensions\\julialang.language-julia-1.75.2\\scripts\\notebook\\notebook.jl:35"
     ]
    }
   ],
   "source": [
    "using ForwardDiff, LinearAlgebra\n",
    "# generate a smooth solution consistent with the boundary condition \n",
    "\n",
    "u_ex = x ->  # choose a model \"manufactured solution\"\n",
    "∇u_ex = x -> ForwardDiff.gradient(u_ex, x)\n",
    "ffun = x ->  - tr( ForwardDiff.jacobian(x -> A(x) * ∇u_ex(x), x) )\n",
    "\n"
   ]
  },
  {
   "cell_type": "code",
   "execution_count": null,
   "id": "29c54588",
   "metadata": {},
   "outputs": [],
   "source": [
    "function fem_errors(N, k, ffun)\n",
    "    cellvalues, dh, ch, K = setup_fem(N, k)\n",
    "    u = solve_fem(cellvalues, dh, ch, K, ffun)\n",
    "    return compute_errors(cellvalues, dh, u, u_ex)\n",
    "end\n",
    "\n",
    "function compute_errors(cellvalues, dh, u, u_ex)\n",
    "    n_basefuncs = getnbasefunctions(cellvalues)\n",
    "    err_L2 = 0.0 \n",
    "    err_H1 = 0.0 \n",
    "    \n",
    "    # loop over cells (= elements)\n",
    "    for cell in CellIterator(dh)\n",
    "        reinit!(cellvalues, cell)        \n",
    "        n_basefuncs = getnbasefunctions(cellvalues)\n",
    "        cell_coords = getcoordinates(cell)\n",
    "        \n",
    "        # we also need the local degrees of freedom \n",
    "        u_cell = u[cell.dofs]\n",
    "    \n",
    "        vK = 0.0\n",
    "        for i_q in 1:getnquadpoints(cellvalues)\n",
    "            dΩ = getdetJdV(cellvalues, i_q)\n",
    "            ξ_q = spatial_coordinate(cellvalues, i_q, cell_coords)\n",
    "            u_q   = u_ex(ξ_q)\n",
    "            ∇u_q  = ForwardDiff.gradient(u_ex, ξ_q)\n",
    "            uh_q  = function_value(cellvalues, i_q, u_cell)\n",
    "            ∇uh_q = function_gradient(cellvalues, i_q, u_cell)\n",
    "            err_L2 += dΩ * (u_q - uh_q)^2\n",
    "            err_H1 += dΩ * norm(∇u_q - ∇uh_q)^2\n",
    "        end\n",
    "    end\n",
    "    return sqrt(err_L2), sqrt(err_H1)\n",
    "end"
   ]
  },
  {
   "cell_type": "code",
   "execution_count": null,
   "id": "ee18b78a",
   "metadata": {},
   "outputs": [],
   "source": [
    "NN = [4, 8, 16, 32, 64, 128]\n",
    "errs_L2 = Float64[] \n",
    "errs_H1 = Float64[]\n",
    "for N in NN\n",
    "    err_L2, err_H1 = fem_errors(N, 1, ffun)\n",
    "    push!(errs_L2, err_L2)\n",
    "    push!(errs_H1, err_H1)\n",
    "end\n",
    ";"
   ]
  },
  {
   "cell_type": "code",
   "execution_count": null,
   "id": "ad95050e",
   "metadata": {},
   "outputs": [],
   "source": [
    "# ... and visualize them\n",
    "fig = Figure(size = (400, 400); fontsize=30)\n",
    "ax = Axis(fig[1, 1], xlabel = L\"h^{-1}\", ylabel = L\"\\text{error}\", \n",
    "          xscale = log10, yscale = log10,\n",
    "          title = \"Error P1-FEM\")\n",
    "scatterlines!(NN, errs_L2; linewidth=5, markersize=20, label=L\"L^2\")\n",
    "scatterlines!(NN, errs_H1; linewidth=5, markersize=20, label = L\"H^1\")\n",
    "NN1 = NN[3:5]\n",
    "lines!(NN1, 6 ./ NN1; color=:black, linewidth=3, label = L\"h, h^2\")\n",
    "lines!(NN1, 5 ./ NN1.^2; color=:black, linewidth=3)\n",
    "axislegend(ax)\n",
    "fig"
   ]
  },
  {
   "cell_type": "markdown",
   "id": "2cf1b71c",
   "metadata": {},
   "source": [
    "---\n",
    "\n",
    "The next two questions concern semi-empirical and theoretical convergence studies on domains with corners. No rigorous proofs need to be given, but please do justify your arguments. You can re-use the code from the class on corner-singularities almost verbatim, very few changes need to be made. "
   ]
  },
  {
   "cell_type": "code",
   "execution_count": null,
   "id": "fe9a6c34",
   "metadata": {},
   "outputs": [],
   "source": [
    "include(\"ferrite_tools.jl\")\n",
    "include(\"aitken.jl\")\n",
    "\n",
    "function compute_energy(k, N, generate_dom, ffun)\n",
    "    grid, ∂Ω = generate_dom(N)\n",
    "    cellvalues, dh, ch, K = setup_fem(k, grid, ∂Ω)\n",
    "    K, f = assemble_global!(cellvalues, dh, K, ξ -> ffun(ξ));\n",
    "    apply!(K, f, ch)\n",
    "    u = K \\ f;\n",
    "    return 0.5 * dot(u, K * u) - dot(u, f)\n",
    "end"
   ]
  },
  {
   "cell_type": "markdown",
   "id": "a41e08aa",
   "metadata": {},
   "source": [
    "## Q3: Regularity in Polygonal Domains - Part 1  [10]\n",
    "\n",
    "We consider the boundary value problem \n",
    "$$\\begin{aligned}\n",
    "    -\\Delta u &= 10, \\quad x \\in \\Omega \\\\ \n",
    "        u &= 0, \\quad x \\in \\partial\\Omega\n",
    "\\end{aligned}$$\n",
    "where $\\Omega$ is a domain with a triangle cut out with re-entrant corner of angle $\\pi/4$. \n",
    "\n",
    "What is the expected rate of convergence in energy-norm for P1-FEM and P2-FEM? Briefly justify your answer, then demonstrate this numerically."
   ]
  },
  {
   "cell_type": "code",
   "execution_count": null,
   "id": "91c5a754",
   "metadata": {},
   "outputs": [],
   "source": [
    "grid, ∂Ω = generate_wedge(20)\n",
    "\n",
    "FerriteViz.wireframe(grid, markersize = 10, strokewidth = 2, \n",
    "                     figure = (resolution=(500,500),))"
   ]
  },
  {
   "cell_type": "markdown",
   "id": "e1d2ebae",
   "metadata": {},
   "source": [
    "### Solution: theory\n",
    "\n",
    "A the re-entrant corner with interior angle $\\theta_0 = 7 \\pi/4 = \\pi/\\alpha$ we have the leading-order singularity \n",
    "$$\n",
    "    s_{\\alpha} = r^\\alpha \\sin(\\alpha \\theta),\n",
    "$$\n",
    "with $\\alpha = 4/7$. Following class notes we expect the rate of convergence in energy-norm to be only $O(h^{4/7})$ for both P1 and P2-fem. For convergence in energy we therefore get $O(h^{8/7})$.  This is fully supported by theory."
   ]
  },
  {
   "cell_type": "code",
   "execution_count": null,
   "id": "fee71eed",
   "metadata": {},
   "outputs": [],
   "source": []
  },
  {
   "cell_type": "markdown",
   "id": "fa68062a",
   "metadata": {},
   "source": [
    "## Q4: Regularity in Polygonal Domains - Part 2  [10]\n",
    "\n",
    "We consider the boundary value problem \n",
    "$$\\begin{aligned}\n",
    "    -\\Delta u &= 5, \\quad x \\in \\Omega \\\\ \n",
    "        u &= 0, \\quad x \\in \\partial\\Omega\n",
    "\\end{aligned}$$\n",
    "where $\\Omega$ is now again the unit square, namely a triangle with angles $\\pi/4, \\pi/4,  \\pi/2$. (visualized in the first cell below)\n",
    "\n",
    "What is the expected rate of convergence in energy-norm for P1-FEM, P2-FEM, P3-FEM? \n",
    "\n",
    "Even though the square should be the simplest of all cases, it is actually not trivial to adapt our arguments for re-entrant corners to this setting, even formally. Try to work it out, but if you can't see how to go about it, then do a purely empirical study and try to explain more intuitively what you observe. I will give close to full points for that.\n",
    "\n",
    "(Because of the high symmetry, there are alternative techniques to understand the regularity of solutions in a square, e.g. Fourier. You could think about that too. But this takes a lot of time and I don't expect it.)"
   ]
  },
  {
   "cell_type": "markdown",
   "id": "12d57b8f",
   "metadata": {},
   "source": [
    "### Solution: theory\n",
    "\n",
    "The domain is convex so $u \\in H^2$, this means the rate for P1-FEM is $h$. \n",
    "\n",
    "But it is not clear whether $u \\in H^3$ or even $H^4$ to get the optimal rates for P2 and P3? We look at the possible corner singularities: Here the interior angle at all corners is $\\theta_0 = \\pi/2 = \\pi/\\alpha$, i.e. $\\alpha = 2$. This suggests the leading order corner singularity $s_2(x) = r^2 \\sin(2 \\theta)$. \n",
    "\n",
    "Because higher $r$-derivatives just vanish, we look at the $\\theta$-derivatives instead. Recall that the derivatives in euclidean coordinates scale roughly as $\\nabla_{xy} \\sim (\\partial_r, r^{-1} \\partial_\\theta)$. For the third derivative we get \n",
    "$$\\begin{aligned}\n",
    "    r^{-3} \\partial_\\theta^3 s_2 &= - 8 r^{-1} \\cos(2\\theta) \n",
    "\\end{aligned}$$\n",
    "This suggests that $|\\nabla^3 s_2|^2 \\approx r^{-2}$ near the singularity, which would mean that it is \"almost but not quite integrable\", i.e. $u \\not\\in H^3$, but \"almost\". \n",
    "\n",
    "We can speculate that the rate of convergence for P2 will be $h^t$ for all $t < k$, i.e. almost optimal. This is really hard to see numerically so we will test against $h^2$. For P3 to get a better rate we would need strictly better than $H^3$-regularity, which we clearlly cannot have, so the rate for P3 will be the same as for P2, i.e. almost $h^2$. (or, $h^4$ for the convergence of the energy)\n"
   ]
  },
  {
   "cell_type": "code",
   "execution_count": null,
   "id": "023694ec",
   "metadata": {},
   "outputs": [],
   "source": []
  },
  {
   "cell_type": "code",
   "execution_count": null,
   "id": "4e464ac8",
   "metadata": {},
   "outputs": [],
   "source": []
  }
 ],
 "metadata": {
  "kernelspec": {
   "display_name": "Julia 1.10.0",
   "language": "julia",
   "name": "julia-1.10"
  },
  "language_info": {
   "file_extension": ".jl",
   "mimetype": "application/julia",
   "name": "julia",
   "version": "1.10.0"
  }
 },
 "nbformat": 4,
 "nbformat_minor": 5
}
