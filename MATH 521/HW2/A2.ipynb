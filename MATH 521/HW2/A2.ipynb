{
 "cells": [
  {
   "cell_type": "markdown",
   "id": "a2a9f58d",
   "metadata": {},
   "source": [
    "# MATH 521 - Numerical Analysis of Differential Equations\n",
    "\n",
    "Christoph Ortner, 02/2024\n",
    "\n",
    "## Assignment 2 : Hilbert Spaces, Weak Form of BVPs"
   ]
  },
  {
   "cell_type": "markdown",
   "id": "ab11245d",
   "metadata": {},
   "source": [
    "**Name:**\n",
    "\n",
    "**Student ID:**"
   ]
  },
  {
   "cell_type": "markdown",
   "id": "0d01c698",
   "metadata": {},
   "source": [
    "### Background for Q1 [no points] \n",
    "\n",
    "You will need the following Poincare-type inequalities: \n",
    "\n",
    "(1) Let $\\Omega$ be a connected, bounded, domain and $\\Gamma_D \\subset \\partial \\Omega$ measurable with surface area $|\\Gamma_D| > 0$, then there exists a constant $c_P$ such that \n",
    "$$ \n",
    "    \\| v \\|_{L^2(\\Omega)} \\leq c_P \\| \\nabla v \\|_{L^2(\\Omega)} \\qquad \\forall v \\in H^1_{\\Gamma_D}(\\Omega).\n",
    "$$\n",
    "\n",
    "(2) Let $\\Omega$ be a simply connected domain then there exists a constant $c_P$ such that \n",
    "$$ \n",
    "    \\| v \\|_{L^2(\\Omega)} \\leq c_P \\| \\nabla v \\|_{L^2(\\Omega)} \\qquad \\forall v \\in H^1(\\Omega) \\text{ satisfying } (v)_\\Omega = 0,\n",
    "$$\n",
    "where $(v)_\\Omega := |\\Omega|^{-1} \\int_\\Omega v \\,dx$.\n",
    "\n",
    "Another way (seemingly stronger but equivalent) to state these results is the following: \n",
    "\n",
    "(1') Let $\\Omega$ be a connected, bounded, domain and $\\Gamma_D \\subset \\partial \\Omega$ measurable with surface area $|\\Gamma_D| > 0$, then there exists a constant $c_P$ such that \n",
    "$$ \n",
    "    \\| v \\|_{L^2(\\Omega)} \\leq c_P\\Big( \\| v \\|_{L^2(\\Gamma_D)}^2 + \\| \\nabla v \\|_{L^2(\\Omega)}^2 \\Big)^{1/2} \n",
    "        \\qquad \\forall v \\in H^1(\\Omega).\n",
    "$$\n",
    "\n",
    "(2) Let $\\Omega$ be a simply connected domain then there exists a constant $c_P$ such that \n",
    "$$ \n",
    "    \\| v \\|_{L^2(\\Omega)} \\leq c_P \\Big( |(v)_\\Omega|^2 + \\| \\nabla v \\|_{L^2(\\Omega)}^2 \\Big)^{1/2} \n",
    "        \\qquad \\forall v \\in H^1(\\Omega). \n",
    "$$\n",
    "\n",
    "\n",
    "**Note:** if you want to prove these results, it is not too difficult. They can both be proven with the same argument. What you need is the compactness of the embedding $L^2(\\Omega) \\subset H^1(\\Omega)$: If $(u_n)_{n \\in \\mathbb{N}}$ is a sequence that is bounded in $H^1(\\Omega)$ then there exists $u \\in L^2(\\Omega)$ and a subsequence such that $u_{n_j} \\to u$ strongly in $L^2$. "
   ]
  },
  {
   "cell_type": "markdown",
   "id": "5b66c687",
   "metadata": {},
   "source": [
    "### Q1a:  [8]\n",
    "\n",
    "Let $\\Omega$ be a connected, bounded domain.\n",
    "Are the following spaces $H$ Hilbert spaces when equipped with their stated inner products? If not, then explain what property is missing (no need to justify it at length)\n",
    "\n",
    "(i) $H = \\{ v \\in C^1(\\bar\\Omega) : v, \\nabla v \\in L^2(\\Omega) \\}$ \n",
    "$(u, v)_H = \\int_\\Omega uv + \\nabla u \\cdot \\nabla v\\,dx$\n",
    "\n",
    "(ii) $H = \\{ v \\in L^2(\\Omega) : \\text{ weakly differentiable, } \\nabla v \\in L^2(\\Omega) \\}$, \n",
    "$(u, v)_H = \\int_\\Omega \\nabla u \\cdot \\nabla v dx$ \n",
    "\n",
    "(iii) $H = \\{ v \\in L^2(\\Omega) : \\text{ weakly differentiable, } \\nabla v \\in L^2(\\Omega) \\}$, \n",
    "$(u, v)_H = \\int_\\Omega uv + \\nabla u \\cdot \\nabla v dx$ \n",
    "\n",
    "(iv) $H = \\{ v \\in L^2(\\Omega) : \\text{ weakly differentiable, } \\nabla v \\in L^2(\\Omega), \n",
    "        v(0) = 0 \\}$, \n",
    "$(u, v)_H = \\int_\\Omega \\nabla u \\cdot \\nabla v dx$.\n"
   ]
  },
  {
   "cell_type": "markdown",
   "id": "df45ffb8",
   "metadata": {},
   "source": [
    "### Solution Q1a\n",
    "\n",
    "(i) \n",
    "\n",
    "(ii) \n",
    "\n",
    "(iii) \n",
    "\n",
    "(iv) "
   ]
  },
  {
   "cell_type": "markdown",
   "id": "43fcf967",
   "metadata": {},
   "source": [
    "### Q1b [5+7]\n",
    "\n",
    "Let $\\Omega$ be a connected, bounded domain, and $\\Gamma_D \\subset \\partial \\Omega$ measurable with surface area $|\\Gamma_D| > 0$. \n",
    "Are the following spaces $H$ Hilbert spaces when equipped with their stated inner products? Now please justify your answer in full detail. (except you don't need to show that $(u, v)_H$ is symmetric and bilinear)\n",
    "\n",
    "(v) $H = \\{ v \\in H^1(\\Omega):  (v)_\\Omega = 0 \\}$, \n",
    "    $(u, v)_H = \\int_\\Omega \\nabla u \\cdot \\nabla v dx$.\n",
    "\n",
    "(vi) $H = H^1(\\Omega)$, $(u, v)_H = \\int_\\Omega \\nabla u \\cdot \\nabla v \\,dx + \\int_{\\Gamma_D} u v \\,dx$. \n",
    "\n",
    "\n"
   ]
  },
  {
   "cell_type": "markdown",
   "id": "583152cb",
   "metadata": {},
   "source": [
    "### Solution Q1a\n",
    "\n",
    "\n",
    "(v) \n",
    "\n",
    "\n",
    "\n",
    "(vi) \n"
   ]
  },
  {
   "cell_type": "markdown",
   "id": "97681313",
   "metadata": {},
   "source": [
    "### Background to Q2 [no points] \n",
    "\n",
    "Before starting on Q2, review integration by parts in $\\Omega \\subset \\mathbb{R}^d$. We introduced this as \n",
    "$$ \n",
    " \\int_\\Omega \\partial_i u \\cdot v dx = - \\int_\\Omega u \\partial_i v dx + \\int_{\\partial\\Omega} \\nu_i u v \\,dx. \n",
    "$$\n",
    "From this expression, please derive the following equivalent formulation:  if $g : \\Omega \\to \\mathbb{R}^d, v : \\Omega \\to \\mathbb{R}$ (both weakly differentiable) then\n",
    "$$\n",
    "  \\int_\\Omega {\\rm div} g \\, v \\,dx = - \\int_\\Omega g \\cdot \\nabla v\\,dx + \\int_{\\partial\\Omega} (\\nu \\cdot g) \\,v \\, dx.\n",
    "$$"
   ]
  },
  {
   "cell_type": "markdown",
   "id": "0c3d1d0b",
   "metadata": {},
   "source": [
    "### Q2: Weak forms of 2nd order BVPs [10+10+10] \n",
    "\n",
    "For the following three problems, derive the weak form and then use the Lax-Milgram theorem to show that the weak forms have unique solutions. Throughout this question,, $\\Omega$ is a connected domain in $\\mathbb{R}^d$, $d > 1$, $p, q \\in C(\\bar\\Omega)$ with $c_0 \\leq p, q \\leq c_1$, $f \\in L^2(\\Omega)$, $g \\in L^2(\\partial\\Omega)$. \n",
    "\n",
    "(i) Neumann problem\n",
    "$$\n",
    "\\begin{aligned} \n",
    "    - {\\rm div}\\big( p \\nabla u \\big) + q u &= f, \\quad \\text{in } \\Omega, \\\\ \n",
    "        p \\nu \\cdot \\nabla u &= g, \\quad \\text{on } \\partial\\Omega. \n",
    "\\end{aligned} \n",
    "$$\n",
    "\n",
    "(ii) Robin problem \n",
    "$$\n",
    "\\begin{aligned} \n",
    "    - {\\rm div}\\big( p \\nabla u\\big)  &= f, \\quad \\text{in } \\Omega, \\\\ \n",
    "        p \\nu \\cdot \\nabla u + u &= g, \\quad \\text{on } \\partial\\Omega. \n",
    "\\end{aligned} \n",
    "$$\n",
    "\n",
    "(iii) The classical Neumann problem: in addition to all previous assumptions also assume that $(f)_\\Omega = 0$. \n",
    "$$\n",
    "\\begin{aligned} \n",
    "    - \\Delta u &= f,  \\quad \\text{in } \\Omega, \\\\ \n",
    "        \\nu \\cdot \\nabla u &= 0, \\quad \\text{on } \\partial\\Omega. \n",
    "\\end{aligned} \n",
    "$$\n",
    "*HINT for (iii) : you need to introduce an additional condition that uniquely determines the solution but doesn't change the problem.*\n"
   ]
  },
  {
   "cell_type": "markdown",
   "id": "a954b7f4",
   "metadata": {},
   "source": [
    "### Solution Q2(i) \n",
    "\n"
   ]
  },
  {
   "cell_type": "markdown",
   "id": "b9892971",
   "metadata": {},
   "source": [
    "### Solution Q2(ii)\n"
   ]
  },
  {
   "cell_type": "markdown",
   "id": "ca9d22ce",
   "metadata": {},
   "source": [
    "### Solution Q2(iii) \n",
    "\n"
   ]
  }
 ],
 "metadata": {
  "kernelspec": {
   "display_name": "Julia 1.10.0",
   "language": "julia",
   "name": "julia-1.10"
  },
  "language_info": {
   "file_extension": ".jl",
   "mimetype": "application/julia",
   "name": "julia",
   "version": "1.10.0"
  }
 },
 "nbformat": 4,
 "nbformat_minor": 5
}
