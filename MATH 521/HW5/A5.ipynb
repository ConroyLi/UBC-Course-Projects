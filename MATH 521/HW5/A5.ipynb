{
 "cells": [
  {
   "cell_type": "markdown",
   "id": "a2a9f58d",
   "metadata": {},
   "source": [
    "# MATH 521 - Numerical Analysis of Differential Equations\n",
    "\n",
    "Christoph Ortner, 03/2024\n",
    "\n",
    "## Assignment 4 : Heat Equation\n"
   ]
  },
  {
   "cell_type": "markdown",
   "id": "ab11245d",
   "metadata": {},
   "source": [
    "**Name:**\n",
    "\n",
    "**Student ID:**"
   ]
  },
  {
   "cell_type": "markdown",
   "id": "f3492c18",
   "metadata": {},
   "source": [
    "In this assignment we will solve the follow heat equation (prototype diffusion equation)\n",
    "$$\n",
    "\\begin{aligned}\n",
    "        u_t - \\Delta u &= f, \\qquad x \\in \\Omega, t \\in (0, T], \\\\ \n",
    "        u &= 0, \\qquad x \\in \\Omega, t \\in [0, T], \\\\ \n",
    "        u &= u_0, \\qquad x \\in \\Omega, t = 0.\n",
    "\\end{aligned}\n",
    "$$\n",
    "where the solution is a function $u(x, t)$ and $T$ is the final time. Assume that $u_0 \\in H^2(\\Omega) \\cap H^1_0(\\Omega)$, and $f = f(x, t)$ is arbitrarily smooth in space and time. Throughout, you may assume that the solution $u(t, x)$ exists, is unique, and as smooth as needed to carry out your analysis.\n",
    "\n",
    "We first discretize the problem using a $P_1$-FEM: Let $\\mathcal{T}_h$ be a regular triangulation of the polygonal domain $\\Omega \\subset \\mathbb{R}^2$ and let \n",
    "$V_h := \\mathcal{P}_1(\\mathcal{T}_h)$ be the corresponding FE space. Then the semi-discrete (continuous in time) formulation is to find $u_h \\in C^1([0, T], V_h)$, such that $u_h(t = 0) = I_h u_0$  (with $I_h$ the nodal interpolation operator), and \n",
    "\n",
    "$$\n",
    "    (u_{h,t}, v_h) + (\\nabla u_h, \\nabla v_h) = (f, \\eta^{n+1} + \\eta^{n}) \\qquad \\forall v_h \\in V_h, t \\in (0, T].\n",
    "$$\n",
    "\n",
    "with $(\\cdot, \\cdot) = (\\cdot, \\cdot)_{L^2(\\Omega)}$. The Assignment is primarily concerned with the effect of using different discretization schemes in time.\n",
    "\n",
    "Throughout this assignment we assume that the family $\\mathcal{T}_h$, $h > 0$ is uniformly shape-regular (no need to further mention this) and quasiuniform, i.e. $c h \\leq h_T \\leq h$ for all $T \\in \\mathcal{T}_h$ with $c$ independent of $h$. "
   ]
  },
  {
   "cell_type": "markdown",
   "id": "4f9a270a",
   "metadata": {},
   "source": [
    "## Q1: Crank-Nicholson Scheme [10]\n",
    "\n",
    "For a system of ODEs, $\\dot{u} = F(t, u)$ the CN scheme reads, \n",
    "$$\n",
    "   U^{n+1} = U^n + \\Delta t \\frac{F(t_n, U^n) + F(t_{n+1}, U^{n+1})}{2}\n",
    "$$\n",
    "where $t_n = n \\Delta t$, $\\Delta t$ is the time-step and $U^n$ the approximation to $u(t_n)$. \n",
    "\n",
    "(a) Formulate the CN discretization of the semi-discrete FEM.\n",
    "\n",
    "(b) Under suitable regularity assumptions on the solution $u$, prove that \n",
    "$$\n",
    "   \\max_{n = 1, \\dots, N} \\| u(t_n) - u_h^n \\|_{L^2} \\leq C (h^2 + \\Delta t^2)\n",
    "$$\n",
    "with $N \\Delta t \\leq T$. How does $C$ depend on $N$ (or on $T$) in your result?\n",
    "\n",
    "For part-b there is a part of the proof that is very repetitive (basically the same as in class) and I won't make you go through it again. I'll very briefly sketch this out, and you can then perform the last step."
   ]
  },
  {
   "cell_type": "markdown",
   "id": "6f460b0d",
   "metadata": {},
   "source": [
    "### Solution Q1a \n",
    "$$\n",
    "\\left( \\frac{u_h^{n+1} - u_h^n}{\\Delta t}, v_h \\right) + \\frac{1}{2} \\left( (\\nabla u_h^n, \\nabla v_h) + (\\nabla u_h^{n+1}, \\nabla v_h) \\right) = \\frac{1}{2} \\left( (f^n, v_h) + (f^{n+1}, v_h) \\right) \\quad \\forall v_h \\in V_h\n",
    "$$\n",
    "\n"
   ]
  },
  {
   "cell_type": "markdown",
   "id": "a66d4ab2",
   "metadata": {},
   "source": [
    "### Solution Q1b\n",
    "\n",
    "**Sketch of Part 1:**\n",
    "\n",
    "Let $u^n(x) = u(x, t_n)$ and $\\tilde{u}_h^n \\in V_h$ the Ritz projection of $u^n$ i.e.\n",
    " $$\n",
    "(\\nabla (u^n - \\tilde{u}_h^n), \\nabla v_h) = 0 \\qquad \\forall  v_h \\in V_h\n",
    "$$\n",
    "We split the error\n",
    "$$\n",
    "    e_h^n = u_h^n - u^n = (u_h^n - \\tilde{u}_h^n) + (\\tilde{u}_h^n - u^n) = \\eta^n + \\epsilon^n.\n",
    "$$\n",
    "Following the class notes almost verbatim we can then prove \n",
    "$$\n",
    "(\\eta^{n+1} - \\eta^n, v_h) + \\frac{\\Delta t}{2} (\\nabla \\eta^{n+1} + \\nabla \\eta^n, \\nabla v_h) \n",
    "    = \\frac{\\Delta t}{2} (g^n, v_h)\n",
    "$$\n",
    "where \n",
    "$$\n",
    "  \\| g^n\\|_{L^2} \\leq C_1 (h^2 + \\Delta t^2) \n",
    "$$\n",
    "with $C_1$ depending on $\\|\\nabla^2 u_t\\|_{L^\\infty(L^2)}$ and $\\| u_{ttt} \\|_{L^\\infty(L^2)}$, but independent of $h, n, \\Delta t$. \n",
    "\n",
    "\n",
    "**Part 2: please complete this.**\n",
    "\n",
    "*Hint:* $(u - v, u + v)_H = \\| u\\|_H^2 - \\| v\\|_H^2$\n",
    "\n",
    "Choose $ v_h = \\eta^{n+1} + \\eta^{n} $, yielding:\n",
    "$$\n",
    "(\\eta^{n+1} - \\eta^n, \\eta^{n+1} + \\eta^{n}) + \\frac{\\Delta t}{2} (\\nabla \\eta^{n+1} + \\nabla \\eta^n, \\nabla \\eta^{n+1} +\\nabla \\eta^{n}) \n",
    "    = \\frac{\\Delta t}{2} (g^n, \\eta^{n+1} + \\eta^{n})\n",
    "$$\n",
    "Simplifying the left-hand side using the identity provided in the hint, and the C-S inequality gives:\n",
    "$$\n",
    "\\|\\eta^{n+1}\\|^2 - \\|\\eta^n\\|^2 + \\frac{\\Delta t}{2}\\|\\nabla \\eta^{n+1}\\|^2 - \\|\\nabla\\eta^n\\|^2 \\leq \\frac{\\Delta t}{2} \\|g^n\\| \\|\\eta^{n+1} + \\eta^n\\|.\n",
    "$$\n",
    "\n",
    "Above is what I got for Q2, I realize that next steps should be related to the Discrete Gronwall's Lemma, but I do not know how to process from that. Here is the Lemma I searched from Google.\n",
    "### Gronwall's Lemma (Discrete Version)\n",
    "\n",
    "The recurrence relation above, if summed from $n=0$ to $n=N-1$ and applying the discrete version of Gronwall's lemma, suggests that:\n",
    "$$\n",
    "\\|\\eta^N\\|^2 \\leq \\exp\\left(C \\Delta t \\sum_{n=0}^{N-1} 1 \\right) \\left(\\|\\eta^0\\|^2 + C_1^2 (h^2 + \\Delta t^2)^2 T\\right),\n",
    "$$\n",
    "where $C$ is a constant depending on the domain and coefficients of the equation, not on $N$ or $T$. Given that $\\eta^0 = 0$ (since $u_h^0 = I_h u_0$ and $u^0 = u_0$), this simplifies to:\n",
    "$$\n",
    "\\|\\eta^N\\| \\leq C(h^2 + \\Delta t^2),\n",
    "$$\n",
    "where now the constant may depend on $T$ but not explicitly on $N$, other than through the product $N \\Delta t \\leq T$.\n",
    "\n",
    "\n",
    "\n",
    "Though the detail of the Lemma is not clear to me, but observe from the result, one can conclude:\n",
    "Combining the bounds for $\\eta^n$ and $\\epsilon^n$:\n",
    "$$\n",
    "\\max_{n = 1, \\dots, N} \\|u(t_n) - u_h^n\\| \\leq \\max_{n = 1, \\dots, N} (\\|\\eta^n\\| + \\|\\epsilon^n\\|) \\leq C (h^2 + \\Delta t^2).\n",
    "$$\n",
    "Thus, the overall constant $C$ in the error estimate reflects dependencies from the norms of higher derivatives of $u$ and the final time $T$, but crucially it does not depend explicitly on $N$. This result ensures that the Crank-Nicolson scheme provides a robust and effective method for the numerical approximation of the heat equation in both space and time.\n",
    "\n",
    "\n"
   ]
  },
  {
   "cell_type": "markdown",
   "id": "08781636",
   "metadata": {},
   "source": [
    "## Q2: Inverse Estimate [5] \n",
    "\n",
    "Under the assumptions on $\\mathcal{T}_h$ stated at the beginning of the assignment, prove that there exists $c^i > 0$ such that \n",
    "$$\n",
    "  \\| \\nabla v_h \\|_{L^2} \\leq c^i h^{-1} \\| v_h \\|_{L^2} \\qquad \\forall v_h \\in \\mathcal{P}_1(\\mathcal{T}_h).\n",
    "$$\n",
    "\n",
    "*Hint: transform to the reference element.*"
   ]
  },
  {
   "cell_type": "markdown",
   "id": "0f269df3",
   "metadata": {},
   "source": [
    "### Solution Q2 \n",
    "\n",
    "Each element $ T $ in the triangulation $ \\mathcal{T}_h $ can be mapped to a reference element $ \\hat{T} $ by:\n",
    "$$\n",
    "x = B_T \\hat{x} + b,\n",
    "$$\n",
    "And the area of each element $ T $\n",
    "$$\n",
    "|T| = |\\det(B_T)| |\\hat{T}|,\n",
    "$$\n",
    "\n",
    "Thus, the gradients transform as follows:\n",
    "$$\n",
    "\\nabla v_h(x) = B_T^{-1} \\nabla \\hat{v}_h(\\hat{x}).\n",
    "$$\n",
    "Therefore, the norm of the gradient scales as:\n",
    "$$\n",
    "\\|\\nabla v_h\\|_{L^2(T)}^2 = \\int_T |\\nabla v_h|^2 \\, dx = \\int_{\\hat{T}} |B_T^{-1} \\nabla \\hat{v}_h|^2 |\\det(B_T)| \\, d\\hat{x}.\n",
    "$$\n",
    "Using the norm of a matrix and its inverse, particularly $ \\|B_T^{-1}\\| $ where the norm is the operator norm (maximum stretching factor), we find:\n",
    "$$\n",
    "\\|B_T^{-1}\\| \\leq Ch^{-1},\n",
    "$$\n",
    "assuming that the transformation linearly scales with the diameter $ h $ of the elements (since $ h_T \\leq h $ and is quasiuniform). Thus, we estimate:\n",
    "$$\n",
    "\\|\\nabla v_h\\|_{L^2(T)}^2 \\leq \\|B_T^{-1}\\|^2 |\\det(B_T)| \\|\\nabla \\hat{v}_h\\|_{L^2(\\hat{T})}^2.\n",
    "$$\n",
    "Thus\n",
    "\n",
    "$$\n",
    "\\|\\nabla v_h\\|_{L^2(\\Omega)}^2 \\leq C^2 h^{-2} \\|v_h\\|_{L^2(\\Omega)}^2.\n",
    "$$\n",
    "\n",
    "And finally,\n",
    "$$\n",
    "\\|\\nabla v_h\\|_{L^2(\\Omega)} \\leq c^i h^{-1} \\|v_h\\|_{L^2(\\Omega)}.\n",
    "$$"
   ]
  },
  {
   "cell_type": "markdown",
   "id": "99eb335e",
   "metadata": {},
   "source": [
    "## Q3: Explicit Euler [15]\n",
    "\n",
    "For a system of ODEs, $\\dot{u} = F(t, u)$ the Explicit Euler (EE) scheme reads, \n",
    "$$\n",
    "   U^{n+1} = U^n + \\Delta t F(t_n, U^n),\n",
    "$$\n",
    "where $t_n = n \\Delta t$, $\\Delta t$ is the time-step and $U^n$ the approximation to $u(t_n)$. \n",
    "\n",
    "(a) Formulate the EE discretization of the semi-discrete FEM.\n",
    "\n",
    "(b) For $f = 0$ and under a suitable restriction on $\\Delta t$ and $h$ that you should derive, prove the **CONDITIONAL STABILITY** result\n",
    "$$\n",
    "    \\| u_h^n \\|_{L^2} \\leq q_{\\Delta t} \\| u_h^{n+1} \\|_{L^2}\n",
    "$$\n",
    "where $q_{\\Delta t} < 1$. \n",
    "\n",
    "*(NOTE: a full error estimate is a bit more involved, so we only prove this stability estimate instead. This is still surprisingly hard, so I will give you the outline of the proof so you can follow it.)*"
   ]
  },
  {
   "cell_type": "markdown",
   "id": "56192a1d",
   "metadata": {},
   "source": [
    "### Solution Q3a\n",
    "\n"
   ]
  },
  {
   "cell_type": "markdown",
   "id": "c9ba27a0",
   "metadata": {},
   "source": [
    "### Solution Q3b\n",
    "\n",
    "**Step 1:** By testing with $v_h = u_h^{n+1} + u_h^n$ (or otherwise) show that \n",
    "$$\n",
    "    \\| u_h^{n+1}\\|^2 + \\frac{\\Delta t}{2} \\| \\nabla u_h^{n+1} \\|^2 \n",
    "     = \\| u_h^n \\|^2 - \\frac{\\Delta t}{2} \\| \\nabla u_h^n \\|^2\n",
    "     + \\frac{\\Delta t}{2} \\| \\nabla u_h^{n+1} - \\nabla u_h^n \\|^2\n",
    "$$\n",
    "*HINT:* $(u, v)_H = \\frac12 \\|u\\|_H^2 + \\frac12 \\|v\\|_H^2 - \\frac12 \\|u - v\\|_H^2$\n"
   ]
  },
  {
   "cell_type": "markdown",
   "id": "e33be318",
   "metadata": {},
   "source": [
    "**Step 2:** By testing with $v_h = u_h^{n+1} -u_h^n$ and applying the inverse inequality prove that \n",
    "$$\n",
    "    \\| u_h^{n+1} - u_h^n \\|^2 \\leq \\Delta t \\mu \\| \\nabla u_h^n \\|^2, \n",
    "$$\n",
    "where you should determine $\\mu$ in terms of $c^i, h, \\Delta t$. \n",
    "\n"
   ]
  },
  {
   "cell_type": "markdown",
   "id": "f9aa941d",
   "metadata": {},
   "source": [
    "**Step 3:** Apply the inverse inequality again to the result Step-1, then apply Step-2, then collect your terms. The result should now follow under a restriction on $\\mu$ that you should specify. "
   ]
  },
  {
   "cell_type": "markdown",
   "id": "e46be9ad",
   "metadata": {},
   "source": [
    "## Q4: Implementation of Heat Equation [20]\n",
    "\n",
    "For this assignment you may choose any code-base you like, our first implementation of P1-FEM, the Ferrite implementation, or any other code in Julia or Python or Matlab. This is a little harder than the previous coding assignments in that I'm giving you a lot less help.\n",
    "\n",
    "(a) Select one of the three discretizations of the heat equation that we covered: P1-FEM in space and IE, EE or CN in time. Implement this scheme to solve the heat equation on the time interval $t \\in [0, 1]$ with $\\Omega = (-1, 1)^2$, $f(x, t) = 1$ and $u_0(x) = 0$.\n",
    "\n",
    "Visualize the solution at the final time $T = 1$ and print out the value of $\\max_{x \\in \\Omega} u(x, t=1)$. (e.g. put this in the title of the figure)\n",
    "\n",
    "(b) Design and implement a numerical test that demonstrates the convergence rate we proved numerically."
   ]
  },
  {
   "cell_type": "markdown",
   "id": "7836628b",
   "metadata": {},
   "source": [
    "### Solution Q4a"
   ]
  },
  {
   "cell_type": "code",
   "execution_count": null,
   "id": "75eacd93",
   "metadata": {},
   "outputs": [],
   "source": []
  },
  {
   "cell_type": "code",
   "execution_count": null,
   "id": "cd9021db",
   "metadata": {},
   "outputs": [],
   "source": []
  },
  {
   "cell_type": "code",
   "execution_count": null,
   "id": "a9b0ff2a",
   "metadata": {},
   "outputs": [],
   "source": []
  },
  {
   "cell_type": "markdown",
   "id": "73fd61b6",
   "metadata": {},
   "source": [
    "### Solution Q4b"
   ]
  },
  {
   "cell_type": "code",
   "execution_count": null,
   "id": "63054e1f",
   "metadata": {},
   "outputs": [],
   "source": [
    "# to use the method of manufactured solutions the following \n",
    "# may be useful. (or some variant...)\n",
    "u_ex = (x, t) -> t * cos(x[1] * t + x[2] * sin(t)) * (x[1]^2 - 1) * (x[2]^2 - 1)\n",
    "∇²u_ex = (x, t) -> ForwardDiff.hessian( x -> u_ex(x, t), x )\n",
    "Δu_ex = (x, t) -> tr( ∇²u_ex(x, t) )\n",
    "∂ₜu_ex = (x, t) -> ForwardDiff.derivative( t -> u_ex(x, t), t )\n",
    "f_ex = (x, t) -> ∂ₜu_ex(x, t) - Δu_ex(x, t)"
   ]
  },
  {
   "cell_type": "code",
   "execution_count": null,
   "id": "9f188366",
   "metadata": {},
   "outputs": [],
   "source": []
  }
 ],
 "metadata": {
  "kernelspec": {
   "display_name": "Julia 1.9.4",
   "language": "julia",
   "name": "julia-1.9"
  },
  "language_info": {
   "file_extension": ".jl",
   "mimetype": "application/julia",
   "name": "julia",
   "version": "1.9.4"
  }
 },
 "nbformat": 4,
 "nbformat_minor": 5
}
