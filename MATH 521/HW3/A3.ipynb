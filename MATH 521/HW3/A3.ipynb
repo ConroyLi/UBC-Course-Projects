{
 "cells": [
  {
   "cell_type": "markdown",
   "id": "a2a9f58d",
   "metadata": {},
   "source": [
    "# MATH 521 - Numerical Analysis of Differential Equations\n",
    "\n",
    "Christoph Ortner, 02/2024\n",
    "\n",
    "## Assignment 3 : Analysis of FEM"
   ]
  },
  {
   "cell_type": "markdown",
   "id": "ab11245d",
   "metadata": {},
   "source": [
    "**Name:** Jincong Li\n",
    "\n",
    "**Student ID:** 60539939"
   ]
  },
  {
   "cell_type": "markdown",
   "id": "2954a752",
   "metadata": {},
   "source": [
    "As a general comment: The questions may appear long, but they are not. Try to be brief."
   ]
  },
  {
   "cell_type": "markdown",
   "id": "4f9a270a",
   "metadata": {},
   "source": [
    " ## Q1: Inhomogeneous Dirichlet Problem [20]\n",
    " \n",
    "(a) Let $\\Omega = (0, 1)^2$, $f \\in L^2(\\Omega)$ and consider the boundary value problem \n",
    "$$\\begin{aligned}\n",
    "    - \\Delta u &= f, \\quad \\Omega \\\\ \n",
    "          u &= 0, \\quad \\partial\\Omega.\n",
    "\\end{aligned}$$\n",
    "Derive the weak form of the PDE, then formulate the $P_k$-finite element method in variational form. (No need to formulate the algebraic equations.)\n",
    "\n",
    "(b) Now suppose that instead of the homogneous boundary conditions $u = 0$ we solve the inhomogeneous Dirichlet problem \n",
    "$$\\begin{aligned}\n",
    "    - \\Delta u &= f, \\quad \\Omega \\\\ \n",
    "          u &= u_D, \\quad \\partial\\Omega.\n",
    "\\end{aligned}$$\n",
    "We assume that $u_D|_{\\partial\\Omega}$ is the trace of a function $u_D \\in H^1(\\Omega)$. Reduce the problem to the one in part (a) and use this to formulate a $P_k$-finite element approximation with trial functions of the form $u_h = u_D + w_h$ where $w_h$ belongs to a suitable finite element space that you should specify. \n",
    "\n",
    "*NOTE: this is an over-simplification. In practice we will use $u_h = I_h u_D + w_h$ which leads to additional variational crimes that we will treat later.*\n",
    "\n",
    "(c) For the problem from part (b) derive an a priori error estimate in the $H^1$-norm, assuming that $u, u_D \\in H^{k+1}$. You may assume boundedness and coercivity and existence/uniqueness without proof, but show the steps for Galerkin orthogonality and Cea's lemma and then deduce the error estimate.\n",
    "\n",
    "You may state without proof any nodal interpolation error estimate."
   ]
  },
  {
   "cell_type": "markdown",
   "id": "6f460b0d",
   "metadata": {},
   "source": [
    "### Solution Q1a \n",
    "\n",
    "The weak form is thus: Find $u \\in H_0^1(\\Omega)$ such that for all $v \\in H_0^1(\\Omega)$,\n",
    "\n",
    "$$\n",
    "\\int_\\Omega \\nabla u \\cdot \\nabla v \\, dx = \\int_\\Omega f v \\, dx \\\\\n",
    "\n",
    "a(u,v) = l(v)\n",
    "$$\n",
    "\n",
    "FEM: $T_h$ is regular triangularization of $\\Omega$\n",
    "\n",
    "$$\n",
    "V_h := P^k_h(T_h) \\cap H^1_0\n",
    "$$\n",
    "($P_h$) Find $u_h \\in V_h$ such that for all $v_h \\in V_h$\n",
    "$$\n",
    "a(u_h,v_h) = l(v_h)\n",
    "$$"
   ]
  },
  {
   "cell_type": "markdown",
   "id": "a66d4ab2",
   "metadata": {},
   "source": [
    "### Solution Q1b\n",
    "\n"
   ]
  },
  {
   "cell_type": "markdown",
   "id": "492ed32a",
   "metadata": {},
   "source": [
    "### Solution Q1c\n",
    "\n"
   ]
  },
  {
   "cell_type": "markdown",
   "id": "08781636",
   "metadata": {},
   "source": [
    "## Q2: Advection [10]\n",
    "\n",
    "Let $\\Omega = (0, 1)^2$, $f \\in L^2(\\Omega)$, $b \\in \\mathbb{R}^2$ constant and consider the boundary value problem \n",
    "$$\\begin{aligned}\n",
    "    - \\Delta u + b \\cdot \\nabla u &= f, \\quad \\Omega \\\\ \n",
    "          u &= 0, \\quad \\partial\\Omega.\n",
    "\\end{aligned}$$\n",
    "Derive the variational (weak) form of the PDE, then formulate the variational form of the $P_k$-finite element method. Are the PDE and the FEM well-posed? \n",
    "\n"
   ]
  },
  {
   "cell_type": "markdown",
   "id": "0f269df3",
   "metadata": {},
   "source": [
    "### Solution Q2 \n",
    "\n"
   ]
  },
  {
   "cell_type": "markdown",
   "id": "99eb335e",
   "metadata": {},
   "source": [
    "## Q3: Energy [10]\n",
    "\n",
    "Let $H$ be a Hilbert space and $V_h \\subset H$ a finite-dimensional subspace. Let $a : H \\times H \\to \\mathbb{R}$ be a bounded, coercive, symmetric, bilinear form, $\\ell \\in H^*$, and let \n",
    "$$\n",
    " J(v) := \\frac12 a(v, v) - \\ell(v)\n",
    "$$\n",
    "be the associated energy functional. \n",
    "\n",
    "(a) Show that the following two problems are equivalent: \n",
    "- Find $u \\in H$ such that $J(u) \\leq J(v)$ for all $v \\in H$. \n",
    "- Find $u \\in H$ such that $a(u, v) = \\ell(v)$ for all $v \\in H$.\n",
    "(Give full details for the argument that we sketched out in class.)\n",
    "\n",
    "(b) Conclude as an immediate corollary that the Galerkin projection \n",
    "- Find $u_h \\in V_h$ such that $a(u_h, v_h) = \\ell(v_h)$ for all $v_h \\in V_h$\n",
    "\n",
    "can be equivalently written as \n",
    "- Find $u_h \\in V_h$ such that $J(u_h) \\leq J(v_h)$ for all $v_h \\in V_h$\n",
    "\n",
    "(c) Prove that the error in energy can be bounded by \n",
    "$$\n",
    "  J(u) \\leq J(u_h) \\leq J(u) + \\frac12 \\| u - u_h\\|_a^2, \n",
    "$$\n",
    "in particular, \n",
    "$$\n",
    "    |J(u) - J(u_h)| \\leq \\frac12 \\| u - u_h\\|_a^2.\n",
    "$$\n",
    "\n",
    "*HINT: You might be tempted to use a duality argument, but it is not needed here.*"
   ]
  },
  {
   "cell_type": "markdown",
   "id": "56192a1d",
   "metadata": {},
   "source": [
    "### Solution Q3a and Q3b\n",
    "\n"
   ]
  },
  {
   "cell_type": "markdown",
   "id": "c9ba27a0",
   "metadata": {},
   "source": [
    "### Solution Q3c\n",
    "\n"
   ]
  },
  {
   "cell_type": "markdown",
   "id": "e46be9ad",
   "metadata": {},
   "source": [
    "## Q4: Duality [10] \n",
    "\n",
    "Let $\\Omega \\subset \\mathbb{R}^2$ be a polygonal domain with boundary $\\partial\\Omega = \\Gamma_{\\rm D} \\cup \\Gamma_{\\rm N}$ with $|\\Gamma_{\\rm D}|, |\\Gamma_{\\rm N}| > 0$, $\\mathcal{T}_h$ a regular triangulation of $\\Omega$, $f \\in L^2(\\Omega), g \\in L^2(\\Gamma_{\\rm N})$ and consider the boundary value problem \n",
    "$$\\begin{aligned}\n",
    "    - \\Delta u &= f, \\quad \\text{in } \\Omega \\\\ \n",
    "          u &= 0, \\quad \\text{in } \\Gamma_{\\rm D}, \\\\ \n",
    "          \\nu \\cdot \\nabla u &= g, \\quad \\text{in } \\Gamma_{\\rm N}.\n",
    "\\end{aligned}$$\n",
    "\n",
    "(a) Write down the variational form of the PDE in $H^1_{\\Gamma_{\\rm D}}$ and the variational form of the Pk-FEM. (no need to give too many details, and no need to prove boundedness and coercivity - you may assume both for step (b).)\n",
    "\n",
    "(b) Consider the quantity of interest \n",
    "$$\n",
    "    \\Phi(u) = \\int_{\\Gamma_{\\rm N}} u \\, dx.\n",
    "$$\n",
    "Show that $\\Phi \\in (H^1_{\\Gamma_{\\rm D}})^*$.\n",
    "\n",
    "Let $u, u_h$ solve the variational forms of the PDE and FEM. Prove that \n",
    "$$\n",
    "   |\\Phi(u) - \\Phi(u_h)| \n",
    "   \\leq \\| \\nabla u - \\nabla u_h \\|_{L^2} \\| \\nabla w - \\nabla w_h \\|_{L^2}, \n",
    "$$\n",
    "where $w$ is the solution of a dual problem that you should specify and $w_h$ taken from a suitable space is arbitrary.\n"
   ]
  },
  {
   "cell_type": "markdown",
   "id": "56131130",
   "metadata": {},
   "source": [
    "### Solution Q4a\n",
    "\n"
   ]
  },
  {
   "cell_type": "markdown",
   "id": "51d00406",
   "metadata": {},
   "source": [
    "### Solution Q4b\n",
    "\n"
   ]
  }
 ],
 "metadata": {
  "kernelspec": {
   "display_name": "Julia 1.10.0",
   "language": "julia",
   "name": "julia-1.10"
  },
  "language_info": {
   "file_extension": ".jl",
   "mimetype": "application/julia",
   "name": "julia",
   "version": "1.10.0"
  }
 },
 "nbformat": 4,
 "nbformat_minor": 5
}
